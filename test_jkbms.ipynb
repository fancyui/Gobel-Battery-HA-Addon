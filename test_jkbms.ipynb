{
  "cells": [
    {
      "cell_type": "raw",
      "metadata": {
        "vscode": {
          "languageId": "raw"
        }
      },
      "source": [
        "# 极空BMS Modbus协议测试\n",
        "\n",
        "本notebook用于测试极空BMS RS485 Modbus通信协议实现\n",
        "\n",
        "## 使用说明\n",
        "\n",
        "1. 首先运行启用自动重新加载的cell\n",
        "2. 然后依次运行测试cells\n",
        "3. 如果修改了代码，自动重新加载会生效\n"
      ]
    },
    {
      "cell_type": "code",
      "execution_count": null,
      "metadata": {},
      "outputs": [],
      "source": [
        "# 启用自动重新加载功能 - 这是解决模块缓存问题的最佳方法\n",
        "%load_ext autoreload\n",
        "%autoreload 2\n",
        "\n",
        "print(\"✓ 自动重新加载已启用\")\n",
        "print(\"✓ 修改代码后会自动重新加载，无需重启内核\")\n"
      ]
    },
    {
      "cell_type": "code",
      "execution_count": null,
      "metadata": {},
      "outputs": [],
      "source": [
        "# 导入JK BMS模块\n",
        "from jkbms_modbus import JKBMSModbus\n",
        "print(\"✓ JKBMSModbus 模块导入成功\")\n",
        "\n",
        "# 创建JK BMS实例  \n",
        "jk_bms = JKBMSModbus(debug=True)\n",
        "print(f\"✓ JK BMS实例创建成功，默认从机地址: {jk_bms.default_slave_address}\")\n"
      ]
    },
    {
      "cell_type": "code",
      "execution_count": null,
      "metadata": {},
      "outputs": [],
      "source": [
        "# 测试构建读取单体电压1的指令\n",
        "print(\"=== 构建读取单体电压1指令 ===\")\n",
        "command = jk_bms.build_read_cellvol1_command()\n",
        "command_hex = command.hex().upper()\n",
        "print(f\"指令(HEX): {command_hex}\")\n",
        "\n",
        "# 分解指令\n",
        "print(\"\\n指令分解:\")\n",
        "print(f\"地址码: {command[0]:02X}H\")\n",
        "print(f\"功能码: {command[1]:02X}H (读取寄存器)\")\n",
        "print(f\"起始寄存器地址: {(command[2] << 8) | command[3]:04X}H\")\n",
        "print(f\"寄存器数量: {(command[4] << 8) | command[5]:04X}H\")\n",
        "print(f\"CRC校验: {command[6]:02X}{command[7]:02X}H\")\n",
        "\n",
        "# 验证期望结果\n",
        "expected_addr = 0x1202  # 基地址0x1200 + 偏移0x0002\n",
        "actual_addr = (command[2] << 8) | command[3]\n",
        "print(f\"\\n验证:\")\n",
        "print(f\"期望寄存器地址: {expected_addr:04X}H\")\n",
        "print(f\"实际寄存器地址: {actual_addr:04X}H\") \n",
        "print(f\"地址正确: {'✓' if actual_addr == expected_addr else '✗'}\")\n"
      ]
    },
    {
      "cell_type": "raw",
      "metadata": {
        "vscode": {
          "languageId": "raw"
        }
      },
      "source": [
        "## 手动重新加载模块（备用方案）\n",
        "\n",
        "如果 `%autoreload` 没有正常工作，可以使用下面的代码手动重新加载模块：\n"
      ]
    },
    {
      "cell_type": "code",
      "execution_count": null,
      "metadata": {},
      "outputs": [],
      "source": [
        "# 方案1: 使用 importlib.reload()\n",
        "import importlib\n",
        "import jkbms_modbus\n",
        "\n",
        "importlib.reload(jkbms_modbus)\n",
        "from jkbms_modbus import JKBMSModbus\n",
        "print(\"✓ 使用 importlib.reload() 重新加载完成\")\n"
      ]
    },
    {
      "cell_type": "code",
      "execution_count": null,
      "metadata": {},
      "outputs": [],
      "source": [
        "# 方案2: 删除模块缓存然后重新导入\n",
        "import sys\n",
        "\n",
        "# 删除模块缓存\n",
        "if 'jkbms_modbus' in sys.modules:\n",
        "    del sys.modules['jkbms_modbus']\n",
        "    print(\"✓ 已删除模块缓存\")\n",
        "\n",
        "# 重新导入\n",
        "from jkbms_modbus import JKBMSModbus\n",
        "print(\"✓ 模块重新导入完成\")\n"
      ]
    }
  ],
  "metadata": {
    "language_info": {
      "name": "python"
    }
  },
  "nbformat": 4,
  "nbformat_minor": 2
}
